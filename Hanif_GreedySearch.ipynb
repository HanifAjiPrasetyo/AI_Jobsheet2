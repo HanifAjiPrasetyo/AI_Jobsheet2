{
  "nbformat": 4,
  "nbformat_minor": 0,
  "metadata": {
    "colab": {
      "provenance": [],
      "collapsed_sections": [],
      "authorship_tag": "ABX9TyPMZ1lBZftqA/+iWWp7mVFT",
      "include_colab_link": true
    },
    "kernelspec": {
      "name": "python3",
      "display_name": "Python 3"
    },
    "language_info": {
      "name": "python"
    }
  },
  "cells": [
    {
      "cell_type": "markdown",
      "metadata": {
        "id": "view-in-github",
        "colab_type": "text"
      },
      "source": [
        "<a href=\"https://colab.research.google.com/github/HanifAjiPrasetyo/AI_Jobsheet2/blob/main/Hanif_GreedySearch.ipynb\" target=\"_parent\"><img src=\"https://colab.research.google.com/assets/colab-badge.svg\" alt=\"Open In Colab\"/></a>"
      ]
    },
    {
      "cell_type": "code",
      "execution_count": 6,
      "metadata": {
        "id": "AUB3ehRjgrSc",
        "colab": {
          "base_uri": "https://localhost:8080/"
        },
        "outputId": "c6892850-d785-49ff-8aec-2f7ca7fd012a"
      },
      "outputs": [
        {
          "output_type": "stream",
          "name": "stdout",
          "text": [
            "Hasil pencarian Greedy Search : \n",
            "['A', 'C', 'D', 'E', 'F', 'B']\n"
          ]
        }
      ],
      "source": [
        "DAG = {\n",
        "  'A': {'C': 4, 'G': 9}, \n",
        "  'G': {'E': 6}, \n",
        "  'C': {'D': 6, 'H': 12}, \n",
        "  'D': {'E': 7}, \n",
        "  'H': {'F': 15}, \n",
        "  'E': {'F': 8}, \n",
        "  'F': {'B': 5}\n",
        "}\n",
        "\n",
        "def shortest_path(graph, source, dest): \n",
        "  result = [] \n",
        "  result.append(source) \n",
        "  \n",
        "  while dest not in result: \n",
        "    current_node = result[-1]\n",
        "    local_max = min(graph[current_node].values()) \n",
        "    \n",
        "    for node, weight in graph[current_node].items(): \n",
        "      if weight == local_max: \n",
        "        result.append(node) \n",
        "  return result\n",
        "  \n",
        "print('Hasil pencarian Greedy Search : ')\n",
        "print(shortest_path(DAG, 'A', 'B'))"
      ]
    }
  ]
}